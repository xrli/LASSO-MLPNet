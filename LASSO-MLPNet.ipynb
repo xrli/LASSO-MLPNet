{
 "cells": [
  {
   "cell_type": "code",
   "execution_count": 1,
   "metadata": {},
   "outputs": [],
   "source": [
    "import numpy as np\n",
    "from sklearn.model_selection import train_test_split\n",
    "from sklearn.preprocessing import StandardScaler\n",
    "from sklearn import svm\n",
    "from sklearn.neural_network import MLPRegressor\n",
    "from sklearn.linear_model import Lasso,LassoCV\n",
    "from sklearn.metrics import mean_absolute_error\n",
    "import matplotlib.pylab as plt\n",
    "%matplotlib inline "
   ]
  },
  {
   "cell_type": "markdown",
   "metadata": {},
   "source": [
    "# load data"
   ]
  },
  {
   "cell_type": "code",
   "execution_count": 2,
   "metadata": {},
   "outputs": [],
   "source": [
    "# load normalized spectra\n",
    "flux_end_train = np.load('./Preprocessed_spectra_data.npy')\n",
    "# load label(APOGEE_payne catalog:Teff,Logg,FeH,LASP:combined_teff,combined_logg,combined_feh,combined_obsid,combined_snrg)\n",
    "train_label = np.load('./Label_APOGEE_payne_LASP.npy')"
   ]
  },
  {
   "cell_type": "code",
   "execution_count": 3,
   "metadata": {},
   "outputs": [],
   "source": [
    "# divide training set and test set\n",
    "X_train, X_val, y_train, y_val = train_test_split(flux_end_train, train_label, test_size=0.2, random_state=42)"
   ]
  },
  {
   "cell_type": "code",
   "execution_count": 4,
   "metadata": {},
   "outputs": [],
   "source": [
    "# log teff\n",
    "y_train[:,0] = np.log10(y_train[:,0])"
   ]
  },
  {
   "cell_type": "code",
   "execution_count": 5,
   "metadata": {},
   "outputs": [],
   "source": [
    "# data normalization\n",
    "sc=StandardScaler()\n",
    "sc.fit(X_train)\n",
    "X_train_std=sc.transform(X_train)\n",
    "X_val_std=sc.transform(X_val)"
   ]
  },
  {
   "cell_type": "markdown",
   "metadata": {},
   "source": [
    "# the model of teff"
   ]
  },
  {
   "cell_type": "markdown",
   "metadata": {},
   "source": [
    "## feature extraction by LASSO"
   ]
  },
  {
   "cell_type": "code",
   "execution_count": 6,
   "metadata": {},
   "outputs": [
    {
     "name": "stderr",
     "output_type": "stream",
     "text": [
      "/workData2/env/ptenv/lib/python3.6/site-packages/sklearn/linear_model/_coordinate_descent.py:527: ConvergenceWarning: Objective did not converge. You might want to increase the number of iterations. Duality gap: 0.0021162718064982045, tolerance: 0.0011028168452731808\n",
      "  tol, rng, random, positive)\n",
      "/workData2/env/ptenv/lib/python3.6/site-packages/sklearn/linear_model/_coordinate_descent.py:531: ConvergenceWarning: Objective did not converge. You might want to increase the number of iterations. Duality gap: 0.004012293490373464, tolerance: 0.001374277263564485\n",
      "  positive)\n"
     ]
    },
    {
     "data": {
      "text/plain": [
       "0.00020235896477251576"
      ]
     },
     "execution_count": 6,
     "metadata": {},
     "output_type": "execute_result"
    }
   ],
   "source": [
    "alphas = np.logspace(-4, 1, 50)\n",
    "clf = LassoCV(alphas=alphas)\n",
    "clf.fit(X_train_std,y_train[:,0])\n",
    "clf.alpha_"
   ]
  },
  {
   "cell_type": "code",
   "execution_count": 7,
   "metadata": {},
   "outputs": [
    {
     "name": "stdout",
     "output_type": "stream",
     "text": [
      "(7898, 643)\n",
      "(1975, 643)\n"
     ]
    }
   ],
   "source": [
    "mask = clf.coef_ != 0\n",
    "X_1 = X_train_std[:,mask]\n",
    "print(X_1.shape)\n",
    "X_2 = X_val_std[:,mask] # AP_LA_IN\n",
    "print(X_2.shape)"
   ]
  },
  {
   "cell_type": "markdown",
   "metadata": {},
   "source": [
    "## model training and test"
   ]
  },
  {
   "cell_type": "code",
   "execution_count": 8,
   "metadata": {},
   "outputs": [
    {
     "name": "stdout",
     "output_type": "stream",
     "text": [
      "Teff MAE: 90.28841248240154\n",
      "Teff mu: -2.8915472729017586\n",
      "Teff sigam: 152.64986653320466\n"
     ]
    }
   ],
   "source": [
    "clf0 = MLPRegressor(hidden_layer_sizes=(400,50), learning_rate_init=0.0009,activation='logistic', max_iter=2000, early_stopping=True, random_state=1)\n",
    "clf0.fit(X_1, y_train[:,0])\n",
    "y_pred0 = clf0.predict(X_2)\n",
    "print('Teff MAE:', mean_absolute_error(10 ** y_pred0, y_val[:, 0]))\n",
    "diff_Teff = 10 ** y_pred0 - y_val[:,0] \n",
    "mu = np.mean(diff_Teff)\n",
    "sigma = np.std(diff_Teff)\n",
    "print('Teff mu:',mu)\n",
    "print('Teff sigam:',sigma)"
   ]
  },
  {
   "cell_type": "markdown",
   "metadata": {},
   "source": [
    "# the model of log g"
   ]
  },
  {
   "cell_type": "markdown",
   "metadata": {},
   "source": [
    "## feature extraction by LASSO"
   ]
  },
  {
   "cell_type": "code",
   "execution_count": 9,
   "metadata": {},
   "outputs": [
    {
     "name": "stderr",
     "output_type": "stream",
     "text": [
      "/workData2/env/ptenv/lib/python3.6/site-packages/sklearn/linear_model/_coordinate_descent.py:527: ConvergenceWarning: Objective did not converge. You might want to increase the number of iterations. Duality gap: 1.245895694054866, tolerance: 0.7461783135057963\n",
      "  tol, rng, random, positive)\n",
      "/workData2/env/ptenv/lib/python3.6/site-packages/sklearn/linear_model/_coordinate_descent.py:527: ConvergenceWarning: Objective did not converge. You might want to increase the number of iterations. Duality gap: 3.2688067825641838, tolerance: 0.7461783135057963\n",
      "  tol, rng, random, positive)\n",
      "/workData2/env/ptenv/lib/python3.6/site-packages/sklearn/linear_model/_coordinate_descent.py:527: ConvergenceWarning: Objective did not converge. You might want to increase the number of iterations. Duality gap: 1.6809397665615506, tolerance: 0.7461783135057963\n",
      "  tol, rng, random, positive)\n",
      "/workData2/env/ptenv/lib/python3.6/site-packages/sklearn/linear_model/_coordinate_descent.py:527: ConvergenceWarning: Objective did not converge. You might want to increase the number of iterations. Duality gap: 2.5088939071879963, tolerance: 0.7461783135057963\n",
      "  tol, rng, random, positive)\n",
      "/workData2/env/ptenv/lib/python3.6/site-packages/sklearn/linear_model/_coordinate_descent.py:527: ConvergenceWarning: Objective did not converge. You might want to increase the number of iterations. Duality gap: 0.8923328768898386, tolerance: 0.7461783135057963\n",
      "  tol, rng, random, positive)\n",
      "/workData2/env/ptenv/lib/python3.6/site-packages/sklearn/linear_model/_coordinate_descent.py:527: ConvergenceWarning: Objective did not converge. You might want to increase the number of iterations. Duality gap: 3.1416736471815625, tolerance: 0.7461783135057963\n",
      "  tol, rng, random, positive)\n",
      "/workData2/env/ptenv/lib/python3.6/site-packages/sklearn/linear_model/_coordinate_descent.py:527: ConvergenceWarning: Objective did not converge. You might want to increase the number of iterations. Duality gap: 2.659998112641574, tolerance: 0.7461783135057963\n",
      "  tol, rng, random, positive)\n",
      "/workData2/env/ptenv/lib/python3.6/site-packages/sklearn/linear_model/_coordinate_descent.py:527: ConvergenceWarning: Objective did not converge. You might want to increase the number of iterations. Duality gap: 3.3408968182730234, tolerance: 0.7461783135057963\n",
      "  tol, rng, random, positive)\n",
      "/workData2/env/ptenv/lib/python3.6/site-packages/sklearn/linear_model/_coordinate_descent.py:527: ConvergenceWarning: Objective did not converge. You might want to increase the number of iterations. Duality gap: 1.9349947879507567, tolerance: 0.7461783135057963\n",
      "  tol, rng, random, positive)\n",
      "/workData2/env/ptenv/lib/python3.6/site-packages/sklearn/linear_model/_coordinate_descent.py:527: ConvergenceWarning: Objective did not converge. You might want to increase the number of iterations. Duality gap: 2.1657224346267583, tolerance: 0.7461783135057963\n",
      "  tol, rng, random, positive)\n",
      "/workData2/env/ptenv/lib/python3.6/site-packages/sklearn/linear_model/_coordinate_descent.py:527: ConvergenceWarning: Objective did not converge. You might want to increase the number of iterations. Duality gap: 2.5115336180391807, tolerance: 0.7461783135057963\n",
      "  tol, rng, random, positive)\n",
      "/workData2/env/ptenv/lib/python3.6/site-packages/sklearn/linear_model/_coordinate_descent.py:527: ConvergenceWarning: Objective did not converge. You might want to increase the number of iterations. Duality gap: 3.197529202961107, tolerance: 0.7461783135057963\n",
      "  tol, rng, random, positive)\n",
      "/workData2/env/ptenv/lib/python3.6/site-packages/sklearn/linear_model/_coordinate_descent.py:527: ConvergenceWarning: Objective did not converge. You might want to increase the number of iterations. Duality gap: 3.644614884650423, tolerance: 0.7461783135057963\n",
      "  tol, rng, random, positive)\n",
      "/workData2/env/ptenv/lib/python3.6/site-packages/sklearn/linear_model/_coordinate_descent.py:527: ConvergenceWarning: Objective did not converge. You might want to increase the number of iterations. Duality gap: 5.182524085230909, tolerance: 0.7461783135057963\n",
      "  tol, rng, random, positive)\n",
      "/workData2/env/ptenv/lib/python3.6/site-packages/sklearn/linear_model/_coordinate_descent.py:527: ConvergenceWarning: Objective did not converge. You might want to increase the number of iterations. Duality gap: 4.8279515062888265, tolerance: 0.7461783135057963\n",
      "  tol, rng, random, positive)\n",
      "/workData2/env/ptenv/lib/python3.6/site-packages/sklearn/linear_model/_coordinate_descent.py:527: ConvergenceWarning: Objective did not converge. You might want to increase the number of iterations. Duality gap: 8.940829277380061, tolerance: 0.7461783135057963\n",
      "  tol, rng, random, positive)\n",
      "/workData2/env/ptenv/lib/python3.6/site-packages/sklearn/linear_model/_coordinate_descent.py:527: ConvergenceWarning: Objective did not converge. You might want to increase the number of iterations. Duality gap: 1.8916238535664434, tolerance: 0.7455574537770822\n",
      "  tol, rng, random, positive)\n",
      "/workData2/env/ptenv/lib/python3.6/site-packages/sklearn/linear_model/_coordinate_descent.py:527: ConvergenceWarning: Objective did not converge. You might want to increase the number of iterations. Duality gap: 2.0122966637164836, tolerance: 0.7455574537770822\n",
      "  tol, rng, random, positive)\n",
      "/workData2/env/ptenv/lib/python3.6/site-packages/sklearn/linear_model/_coordinate_descent.py:527: ConvergenceWarning: Objective did not converge. You might want to increase the number of iterations. Duality gap: 1.294721237111105, tolerance: 0.7455574537770822\n",
      "  tol, rng, random, positive)\n",
      "/workData2/env/ptenv/lib/python3.6/site-packages/sklearn/linear_model/_coordinate_descent.py:527: ConvergenceWarning: Objective did not converge. You might want to increase the number of iterations. Duality gap: 2.386468113180854, tolerance: 0.7455574537770822\n",
      "  tol, rng, random, positive)\n",
      "/workData2/env/ptenv/lib/python3.6/site-packages/sklearn/linear_model/_coordinate_descent.py:527: ConvergenceWarning: Objective did not converge. You might want to increase the number of iterations. Duality gap: 0.952718633659174, tolerance: 0.7455574537770822\n",
      "  tol, rng, random, positive)\n",
      "/workData2/env/ptenv/lib/python3.6/site-packages/sklearn/linear_model/_coordinate_descent.py:527: ConvergenceWarning: Objective did not converge. You might want to increase the number of iterations. Duality gap: 2.1545686476090964, tolerance: 0.7455574537770822\n",
      "  tol, rng, random, positive)\n",
      "/workData2/env/ptenv/lib/python3.6/site-packages/sklearn/linear_model/_coordinate_descent.py:527: ConvergenceWarning: Objective did not converge. You might want to increase the number of iterations. Duality gap: 1.7241074773039315, tolerance: 0.7455574537770822\n",
      "  tol, rng, random, positive)\n",
      "/workData2/env/ptenv/lib/python3.6/site-packages/sklearn/linear_model/_coordinate_descent.py:527: ConvergenceWarning: Objective did not converge. You might want to increase the number of iterations. Duality gap: 1.7106789358782066, tolerance: 0.7455574537770822\n",
      "  tol, rng, random, positive)\n",
      "/workData2/env/ptenv/lib/python3.6/site-packages/sklearn/linear_model/_coordinate_descent.py:527: ConvergenceWarning: Objective did not converge. You might want to increase the number of iterations. Duality gap: 2.192707822247172, tolerance: 0.7455574537770822\n",
      "  tol, rng, random, positive)\n",
      "/workData2/env/ptenv/lib/python3.6/site-packages/sklearn/linear_model/_coordinate_descent.py:527: ConvergenceWarning: Objective did not converge. You might want to increase the number of iterations. Duality gap: 1.2155509995400564, tolerance: 0.7455574537770822\n",
      "  tol, rng, random, positive)\n",
      "/workData2/env/ptenv/lib/python3.6/site-packages/sklearn/linear_model/_coordinate_descent.py:527: ConvergenceWarning: Objective did not converge. You might want to increase the number of iterations. Duality gap: 2.03838340911048, tolerance: 0.7455574537770822\n",
      "  tol, rng, random, positive)\n",
      "/workData2/env/ptenv/lib/python3.6/site-packages/sklearn/linear_model/_coordinate_descent.py:527: ConvergenceWarning: Objective did not converge. You might want to increase the number of iterations. Duality gap: 1.9229138564713537, tolerance: 0.7455574537770822\n",
      "  tol, rng, random, positive)\n",
      "/workData2/env/ptenv/lib/python3.6/site-packages/sklearn/linear_model/_coordinate_descent.py:527: ConvergenceWarning: Objective did not converge. You might want to increase the number of iterations. Duality gap: 3.125004343299281, tolerance: 0.7455574537770822\n",
      "  tol, rng, random, positive)\n"
     ]
    },
    {
     "name": "stderr",
     "output_type": "stream",
     "text": [
      "/workData2/env/ptenv/lib/python3.6/site-packages/sklearn/linear_model/_coordinate_descent.py:527: ConvergenceWarning: Objective did not converge. You might want to increase the number of iterations. Duality gap: 5.037918487108982, tolerance: 0.7455574537770822\n",
      "  tol, rng, random, positive)\n",
      "/workData2/env/ptenv/lib/python3.6/site-packages/sklearn/linear_model/_coordinate_descent.py:527: ConvergenceWarning: Objective did not converge. You might want to increase the number of iterations. Duality gap: 5.619132461287251, tolerance: 0.7455574537770822\n",
      "  tol, rng, random, positive)\n",
      "/workData2/env/ptenv/lib/python3.6/site-packages/sklearn/linear_model/_coordinate_descent.py:527: ConvergenceWarning: Objective did not converge. You might want to increase the number of iterations. Duality gap: 6.048572698974084, tolerance: 0.7455574537770822\n",
      "  tol, rng, random, positive)\n",
      "/workData2/env/ptenv/lib/python3.6/site-packages/sklearn/linear_model/_coordinate_descent.py:527: ConvergenceWarning: Objective did not converge. You might want to increase the number of iterations. Duality gap: 0.9665719421094536, tolerance: 0.7450181759528983\n",
      "  tol, rng, random, positive)\n",
      "/workData2/env/ptenv/lib/python3.6/site-packages/sklearn/linear_model/_coordinate_descent.py:527: ConvergenceWarning: Objective did not converge. You might want to increase the number of iterations. Duality gap: 2.005652499862663, tolerance: 0.7450181759528983\n",
      "  tol, rng, random, positive)\n",
      "/workData2/env/ptenv/lib/python3.6/site-packages/sklearn/linear_model/_coordinate_descent.py:527: ConvergenceWarning: Objective did not converge. You might want to increase the number of iterations. Duality gap: 1.083744079966607, tolerance: 0.7450181759528983\n",
      "  tol, rng, random, positive)\n",
      "/workData2/env/ptenv/lib/python3.6/site-packages/sklearn/linear_model/_coordinate_descent.py:527: ConvergenceWarning: Objective did not converge. You might want to increase the number of iterations. Duality gap: 1.9952878982298614, tolerance: 0.7450181759528983\n",
      "  tol, rng, random, positive)\n",
      "/workData2/env/ptenv/lib/python3.6/site-packages/sklearn/linear_model/_coordinate_descent.py:527: ConvergenceWarning: Objective did not converge. You might want to increase the number of iterations. Duality gap: 1.2904124643280284, tolerance: 0.7450181759528983\n",
      "  tol, rng, random, positive)\n",
      "/workData2/env/ptenv/lib/python3.6/site-packages/sklearn/linear_model/_coordinate_descent.py:527: ConvergenceWarning: Objective did not converge. You might want to increase the number of iterations. Duality gap: 2.067399985948242, tolerance: 0.7450181759528983\n",
      "  tol, rng, random, positive)\n",
      "/workData2/env/ptenv/lib/python3.6/site-packages/sklearn/linear_model/_coordinate_descent.py:527: ConvergenceWarning: Objective did not converge. You might want to increase the number of iterations. Duality gap: 2.85333360904184, tolerance: 0.7450181759528983\n",
      "  tol, rng, random, positive)\n",
      "/workData2/env/ptenv/lib/python3.6/site-packages/sklearn/linear_model/_coordinate_descent.py:527: ConvergenceWarning: Objective did not converge. You might want to increase the number of iterations. Duality gap: 2.7639922871475164, tolerance: 0.7450181759528983\n",
      "  tol, rng, random, positive)\n",
      "/workData2/env/ptenv/lib/python3.6/site-packages/sklearn/linear_model/_coordinate_descent.py:527: ConvergenceWarning: Objective did not converge. You might want to increase the number of iterations. Duality gap: 2.1923910184912074, tolerance: 0.7450181759528983\n",
      "  tol, rng, random, positive)\n",
      "/workData2/env/ptenv/lib/python3.6/site-packages/sklearn/linear_model/_coordinate_descent.py:527: ConvergenceWarning: Objective did not converge. You might want to increase the number of iterations. Duality gap: 2.9396692746514645, tolerance: 0.7450181759528983\n",
      "  tol, rng, random, positive)\n",
      "/workData2/env/ptenv/lib/python3.6/site-packages/sklearn/linear_model/_coordinate_descent.py:527: ConvergenceWarning: Objective did not converge. You might want to increase the number of iterations. Duality gap: 2.658820451644999, tolerance: 0.7450181759528983\n",
      "  tol, rng, random, positive)\n",
      "/workData2/env/ptenv/lib/python3.6/site-packages/sklearn/linear_model/_coordinate_descent.py:527: ConvergenceWarning: Objective did not converge. You might want to increase the number of iterations. Duality gap: 3.1198892999377676, tolerance: 0.7450181759528983\n",
      "  tol, rng, random, positive)\n",
      "/workData2/env/ptenv/lib/python3.6/site-packages/sklearn/linear_model/_coordinate_descent.py:527: ConvergenceWarning: Objective did not converge. You might want to increase the number of iterations. Duality gap: 5.800181534225658, tolerance: 0.7450181759528983\n",
      "  tol, rng, random, positive)\n",
      "/workData2/env/ptenv/lib/python3.6/site-packages/sklearn/linear_model/_coordinate_descent.py:527: ConvergenceWarning: Objective did not converge. You might want to increase the number of iterations. Duality gap: 11.331304528985711, tolerance: 0.7450181759528983\n",
      "  tol, rng, random, positive)\n",
      "/workData2/env/ptenv/lib/python3.6/site-packages/sklearn/linear_model/_coordinate_descent.py:527: ConvergenceWarning: Objective did not converge. You might want to increase the number of iterations. Duality gap: 1.8644323853752667, tolerance: 0.739987289819021\n",
      "  tol, rng, random, positive)\n",
      "/workData2/env/ptenv/lib/python3.6/site-packages/sklearn/linear_model/_coordinate_descent.py:527: ConvergenceWarning: Objective did not converge. You might want to increase the number of iterations. Duality gap: 1.5063477690231366, tolerance: 0.739987289819021\n",
      "  tol, rng, random, positive)\n",
      "/workData2/env/ptenv/lib/python3.6/site-packages/sklearn/linear_model/_coordinate_descent.py:527: ConvergenceWarning: Objective did not converge. You might want to increase the number of iterations. Duality gap: 2.2021172467033807, tolerance: 0.739987289819021\n",
      "  tol, rng, random, positive)\n",
      "/workData2/env/ptenv/lib/python3.6/site-packages/sklearn/linear_model/_coordinate_descent.py:527: ConvergenceWarning: Objective did not converge. You might want to increase the number of iterations. Duality gap: 1.0196100323429107, tolerance: 0.739987289819021\n",
      "  tol, rng, random, positive)\n",
      "/workData2/env/ptenv/lib/python3.6/site-packages/sklearn/linear_model/_coordinate_descent.py:527: ConvergenceWarning: Objective did not converge. You might want to increase the number of iterations. Duality gap: 3.2454934265178395, tolerance: 0.739987289819021\n",
      "  tol, rng, random, positive)\n",
      "/workData2/env/ptenv/lib/python3.6/site-packages/sklearn/linear_model/_coordinate_descent.py:527: ConvergenceWarning: Objective did not converge. You might want to increase the number of iterations. Duality gap: 3.685346291100643, tolerance: 0.739987289819021\n",
      "  tol, rng, random, positive)\n",
      "/workData2/env/ptenv/lib/python3.6/site-packages/sklearn/linear_model/_coordinate_descent.py:527: ConvergenceWarning: Objective did not converge. You might want to increase the number of iterations. Duality gap: 3.474599773237969, tolerance: 0.739987289819021\n",
      "  tol, rng, random, positive)\n",
      "/workData2/env/ptenv/lib/python3.6/site-packages/sklearn/linear_model/_coordinate_descent.py:527: ConvergenceWarning: Objective did not converge. You might want to increase the number of iterations. Duality gap: 2.366377190027009, tolerance: 0.739987289819021\n",
      "  tol, rng, random, positive)\n",
      "/workData2/env/ptenv/lib/python3.6/site-packages/sklearn/linear_model/_coordinate_descent.py:527: ConvergenceWarning: Objective did not converge. You might want to increase the number of iterations. Duality gap: 3.1001163640506775, tolerance: 0.739987289819021\n",
      "  tol, rng, random, positive)\n",
      "/workData2/env/ptenv/lib/python3.6/site-packages/sklearn/linear_model/_coordinate_descent.py:527: ConvergenceWarning: Objective did not converge. You might want to increase the number of iterations. Duality gap: 1.979223682407735, tolerance: 0.739987289819021\n",
      "  tol, rng, random, positive)\n",
      "/workData2/env/ptenv/lib/python3.6/site-packages/sklearn/linear_model/_coordinate_descent.py:527: ConvergenceWarning: Objective did not converge. You might want to increase the number of iterations. Duality gap: 2.768045933841819, tolerance: 0.739987289819021\n",
      "  tol, rng, random, positive)\n",
      "/workData2/env/ptenv/lib/python3.6/site-packages/sklearn/linear_model/_coordinate_descent.py:527: ConvergenceWarning: Objective did not converge. You might want to increase the number of iterations. Duality gap: 4.521306057879997, tolerance: 0.739987289819021\n",
      "  tol, rng, random, positive)\n"
     ]
    },
    {
     "name": "stderr",
     "output_type": "stream",
     "text": [
      "/workData2/env/ptenv/lib/python3.6/site-packages/sklearn/linear_model/_coordinate_descent.py:527: ConvergenceWarning: Objective did not converge. You might want to increase the number of iterations. Duality gap: 5.4266847452585125, tolerance: 0.739987289819021\n",
      "  tol, rng, random, positive)\n",
      "/workData2/env/ptenv/lib/python3.6/site-packages/sklearn/linear_model/_coordinate_descent.py:527: ConvergenceWarning: Objective did not converge. You might want to increase the number of iterations. Duality gap: 5.721779911074265, tolerance: 0.739987289819021\n",
      "  tol, rng, random, positive)\n",
      "/workData2/env/ptenv/lib/python3.6/site-packages/sklearn/linear_model/_coordinate_descent.py:527: ConvergenceWarning: Objective did not converge. You might want to increase the number of iterations. Duality gap: 14.583249119415669, tolerance: 0.739987289819021\n",
      "  tol, rng, random, positive)\n",
      "/workData2/env/ptenv/lib/python3.6/site-packages/sklearn/linear_model/_coordinate_descent.py:527: ConvergenceWarning: Objective did not converge. You might want to increase the number of iterations. Duality gap: 1.508760469523736, tolerance: 0.741602200692628\n",
      "  tol, rng, random, positive)\n",
      "/workData2/env/ptenv/lib/python3.6/site-packages/sklearn/linear_model/_coordinate_descent.py:527: ConvergenceWarning: Objective did not converge. You might want to increase the number of iterations. Duality gap: 1.579314866806044, tolerance: 0.741602200692628\n",
      "  tol, rng, random, positive)\n",
      "/workData2/env/ptenv/lib/python3.6/site-packages/sklearn/linear_model/_coordinate_descent.py:527: ConvergenceWarning: Objective did not converge. You might want to increase the number of iterations. Duality gap: 1.581043317852675, tolerance: 0.741602200692628\n",
      "  tol, rng, random, positive)\n",
      "/workData2/env/ptenv/lib/python3.6/site-packages/sklearn/linear_model/_coordinate_descent.py:527: ConvergenceWarning: Objective did not converge. You might want to increase the number of iterations. Duality gap: 1.2574350915368768, tolerance: 0.741602200692628\n",
      "  tol, rng, random, positive)\n",
      "/workData2/env/ptenv/lib/python3.6/site-packages/sklearn/linear_model/_coordinate_descent.py:527: ConvergenceWarning: Objective did not converge. You might want to increase the number of iterations. Duality gap: 2.4876018772778252, tolerance: 0.741602200692628\n",
      "  tol, rng, random, positive)\n",
      "/workData2/env/ptenv/lib/python3.6/site-packages/sklearn/linear_model/_coordinate_descent.py:527: ConvergenceWarning: Objective did not converge. You might want to increase the number of iterations. Duality gap: 3.745898619626871, tolerance: 0.741602200692628\n",
      "  tol, rng, random, positive)\n",
      "/workData2/env/ptenv/lib/python3.6/site-packages/sklearn/linear_model/_coordinate_descent.py:527: ConvergenceWarning: Objective did not converge. You might want to increase the number of iterations. Duality gap: 2.9883290561087392, tolerance: 0.741602200692628\n",
      "  tol, rng, random, positive)\n",
      "/workData2/env/ptenv/lib/python3.6/site-packages/sklearn/linear_model/_coordinate_descent.py:527: ConvergenceWarning: Objective did not converge. You might want to increase the number of iterations. Duality gap: 1.4232794133986317, tolerance: 0.741602200692628\n",
      "  tol, rng, random, positive)\n",
      "/workData2/env/ptenv/lib/python3.6/site-packages/sklearn/linear_model/_coordinate_descent.py:527: ConvergenceWarning: Objective did not converge. You might want to increase the number of iterations. Duality gap: 1.0896282986473693, tolerance: 0.741602200692628\n",
      "  tol, rng, random, positive)\n",
      "/workData2/env/ptenv/lib/python3.6/site-packages/sklearn/linear_model/_coordinate_descent.py:527: ConvergenceWarning: Objective did not converge. You might want to increase the number of iterations. Duality gap: 1.1547814484249557, tolerance: 0.741602200692628\n",
      "  tol, rng, random, positive)\n",
      "/workData2/env/ptenv/lib/python3.6/site-packages/sklearn/linear_model/_coordinate_descent.py:527: ConvergenceWarning: Objective did not converge. You might want to increase the number of iterations. Duality gap: 2.6252810977317154, tolerance: 0.741602200692628\n",
      "  tol, rng, random, positive)\n",
      "/workData2/env/ptenv/lib/python3.6/site-packages/sklearn/linear_model/_coordinate_descent.py:527: ConvergenceWarning: Objective did not converge. You might want to increase the number of iterations. Duality gap: 2.4450596933529596, tolerance: 0.741602200692628\n",
      "  tol, rng, random, positive)\n",
      "/workData2/env/ptenv/lib/python3.6/site-packages/sklearn/linear_model/_coordinate_descent.py:527: ConvergenceWarning: Objective did not converge. You might want to increase the number of iterations. Duality gap: 6.580207358805268, tolerance: 0.741602200692628\n",
      "  tol, rng, random, positive)\n",
      "/workData2/env/ptenv/lib/python3.6/site-packages/sklearn/linear_model/_coordinate_descent.py:527: ConvergenceWarning: Objective did not converge. You might want to increase the number of iterations. Duality gap: 9.672977601975703, tolerance: 0.741602200692628\n",
      "  tol, rng, random, positive)\n",
      "/workData2/env/ptenv/lib/python3.6/site-packages/sklearn/linear_model/_coordinate_descent.py:527: ConvergenceWarning: Objective did not converge. You might want to increase the number of iterations. Duality gap: 1.8251423952273171, tolerance: 0.7425711781927407\n",
      "  tol, rng, random, positive)\n",
      "/workData2/env/ptenv/lib/python3.6/site-packages/sklearn/linear_model/_coordinate_descent.py:527: ConvergenceWarning: Objective did not converge. You might want to increase the number of iterations. Duality gap: 1.0665351585200256, tolerance: 0.7425711781927407\n",
      "  tol, rng, random, positive)\n",
      "/workData2/env/ptenv/lib/python3.6/site-packages/sklearn/linear_model/_coordinate_descent.py:527: ConvergenceWarning: Objective did not converge. You might want to increase the number of iterations. Duality gap: 2.2937790957943207, tolerance: 0.7425711781927407\n",
      "  tol, rng, random, positive)\n",
      "/workData2/env/ptenv/lib/python3.6/site-packages/sklearn/linear_model/_coordinate_descent.py:527: ConvergenceWarning: Objective did not converge. You might want to increase the number of iterations. Duality gap: 1.3843278561116108, tolerance: 0.7425711781927407\n",
      "  tol, rng, random, positive)\n",
      "/workData2/env/ptenv/lib/python3.6/site-packages/sklearn/linear_model/_coordinate_descent.py:527: ConvergenceWarning: Objective did not converge. You might want to increase the number of iterations. Duality gap: 1.799790843806619, tolerance: 0.7425711781927407\n",
      "  tol, rng, random, positive)\n",
      "/workData2/env/ptenv/lib/python3.6/site-packages/sklearn/linear_model/_coordinate_descent.py:527: ConvergenceWarning: Objective did not converge. You might want to increase the number of iterations. Duality gap: 1.7750100292175262, tolerance: 0.7425711781927407\n",
      "  tol, rng, random, positive)\n",
      "/workData2/env/ptenv/lib/python3.6/site-packages/sklearn/linear_model/_coordinate_descent.py:527: ConvergenceWarning: Objective did not converge. You might want to increase the number of iterations. Duality gap: 1.5689069395977526, tolerance: 0.7425711781927407\n",
      "  tol, rng, random, positive)\n",
      "/workData2/env/ptenv/lib/python3.6/site-packages/sklearn/linear_model/_coordinate_descent.py:527: ConvergenceWarning: Objective did not converge. You might want to increase the number of iterations. Duality gap: 1.644422208448475, tolerance: 0.7425711781927407\n",
      "  tol, rng, random, positive)\n",
      "/workData2/env/ptenv/lib/python3.6/site-packages/sklearn/linear_model/_coordinate_descent.py:527: ConvergenceWarning: Objective did not converge. You might want to increase the number of iterations. Duality gap: 1.466726897345552, tolerance: 0.7425711781927407\n",
      "  tol, rng, random, positive)\n",
      "/workData2/env/ptenv/lib/python3.6/site-packages/sklearn/linear_model/_coordinate_descent.py:527: ConvergenceWarning: Objective did not converge. You might want to increase the number of iterations. Duality gap: 2.5314546854288267, tolerance: 0.7425711781927407\n",
      "  tol, rng, random, positive)\n",
      "/workData2/env/ptenv/lib/python3.6/site-packages/sklearn/linear_model/_coordinate_descent.py:527: ConvergenceWarning: Objective did not converge. You might want to increase the number of iterations. Duality gap: 4.28764705451556, tolerance: 0.7425711781927407\n",
      "  tol, rng, random, positive)\n",
      "/workData2/env/ptenv/lib/python3.6/site-packages/sklearn/linear_model/_coordinate_descent.py:527: ConvergenceWarning: Objective did not converge. You might want to increase the number of iterations. Duality gap: 4.9523220660386755, tolerance: 0.7425711781927407\n",
      "  tol, rng, random, positive)\n"
     ]
    },
    {
     "name": "stderr",
     "output_type": "stream",
     "text": [
      "/workData2/env/ptenv/lib/python3.6/site-packages/sklearn/linear_model/_coordinate_descent.py:527: ConvergenceWarning: Objective did not converge. You might want to increase the number of iterations. Duality gap: 4.583369584288562, tolerance: 0.7425711781927407\n",
      "  tol, rng, random, positive)\n",
      "/workData2/env/ptenv/lib/python3.6/site-packages/sklearn/linear_model/_coordinate_descent.py:527: ConvergenceWarning: Objective did not converge. You might want to increase the number of iterations. Duality gap: 1.3174729071094475, tolerance: 0.742509532683216\n",
      "  tol, rng, random, positive)\n",
      "/workData2/env/ptenv/lib/python3.6/site-packages/sklearn/linear_model/_coordinate_descent.py:527: ConvergenceWarning: Objective did not converge. You might want to increase the number of iterations. Duality gap: 0.9249496477697221, tolerance: 0.742509532683216\n",
      "  tol, rng, random, positive)\n",
      "/workData2/env/ptenv/lib/python3.6/site-packages/sklearn/linear_model/_coordinate_descent.py:527: ConvergenceWarning: Objective did not converge. You might want to increase the number of iterations. Duality gap: 1.8336832195433885, tolerance: 0.742509532683216\n",
      "  tol, rng, random, positive)\n",
      "/workData2/env/ptenv/lib/python3.6/site-packages/sklearn/linear_model/_coordinate_descent.py:527: ConvergenceWarning: Objective did not converge. You might want to increase the number of iterations. Duality gap: 1.6316911666488068, tolerance: 0.742509532683216\n",
      "  tol, rng, random, positive)\n",
      "/workData2/env/ptenv/lib/python3.6/site-packages/sklearn/linear_model/_coordinate_descent.py:527: ConvergenceWarning: Objective did not converge. You might want to increase the number of iterations. Duality gap: 2.534230214253114, tolerance: 0.742509532683216\n",
      "  tol, rng, random, positive)\n",
      "/workData2/env/ptenv/lib/python3.6/site-packages/sklearn/linear_model/_coordinate_descent.py:527: ConvergenceWarning: Objective did not converge. You might want to increase the number of iterations. Duality gap: 2.5042419437370995, tolerance: 0.742509532683216\n",
      "  tol, rng, random, positive)\n",
      "/workData2/env/ptenv/lib/python3.6/site-packages/sklearn/linear_model/_coordinate_descent.py:527: ConvergenceWarning: Objective did not converge. You might want to increase the number of iterations. Duality gap: 1.7107876921533034, tolerance: 0.742509532683216\n",
      "  tol, rng, random, positive)\n",
      "/workData2/env/ptenv/lib/python3.6/site-packages/sklearn/linear_model/_coordinate_descent.py:527: ConvergenceWarning: Objective did not converge. You might want to increase the number of iterations. Duality gap: 3.1162730635995217, tolerance: 0.742509532683216\n",
      "  tol, rng, random, positive)\n",
      "/workData2/env/ptenv/lib/python3.6/site-packages/sklearn/linear_model/_coordinate_descent.py:527: ConvergenceWarning: Objective did not converge. You might want to increase the number of iterations. Duality gap: 2.1874118850867035, tolerance: 0.742509532683216\n",
      "  tol, rng, random, positive)\n",
      "/workData2/env/ptenv/lib/python3.6/site-packages/sklearn/linear_model/_coordinate_descent.py:527: ConvergenceWarning: Objective did not converge. You might want to increase the number of iterations. Duality gap: 1.9789717594616718, tolerance: 0.742509532683216\n",
      "  tol, rng, random, positive)\n",
      "/workData2/env/ptenv/lib/python3.6/site-packages/sklearn/linear_model/_coordinate_descent.py:527: ConvergenceWarning: Objective did not converge. You might want to increase the number of iterations. Duality gap: 2.4740544322715436, tolerance: 0.742509532683216\n",
      "  tol, rng, random, positive)\n",
      "/workData2/env/ptenv/lib/python3.6/site-packages/sklearn/linear_model/_coordinate_descent.py:527: ConvergenceWarning: Objective did not converge. You might want to increase the number of iterations. Duality gap: 4.094283127560345, tolerance: 0.742509532683216\n",
      "  tol, rng, random, positive)\n",
      "/workData2/env/ptenv/lib/python3.6/site-packages/sklearn/linear_model/_coordinate_descent.py:527: ConvergenceWarning: Objective did not converge. You might want to increase the number of iterations. Duality gap: 5.357474598293294, tolerance: 0.742509532683216\n",
      "  tol, rng, random, positive)\n",
      "/workData2/env/ptenv/lib/python3.6/site-packages/sklearn/linear_model/_coordinate_descent.py:527: ConvergenceWarning: Objective did not converge. You might want to increase the number of iterations. Duality gap: 1.0420520032312197, tolerance: 0.7473678257887452\n",
      "  tol, rng, random, positive)\n",
      "/workData2/env/ptenv/lib/python3.6/site-packages/sklearn/linear_model/_coordinate_descent.py:527: ConvergenceWarning: Objective did not converge. You might want to increase the number of iterations. Duality gap: 1.5720754261600405, tolerance: 0.7473678257887452\n",
      "  tol, rng, random, positive)\n",
      "/workData2/env/ptenv/lib/python3.6/site-packages/sklearn/linear_model/_coordinate_descent.py:527: ConvergenceWarning: Objective did not converge. You might want to increase the number of iterations. Duality gap: 0.8617014373449763, tolerance: 0.7473678257887452\n",
      "  tol, rng, random, positive)\n",
      "/workData2/env/ptenv/lib/python3.6/site-packages/sklearn/linear_model/_coordinate_descent.py:527: ConvergenceWarning: Objective did not converge. You might want to increase the number of iterations. Duality gap: 1.7685233100420987, tolerance: 0.7473678257887452\n",
      "  tol, rng, random, positive)\n",
      "/workData2/env/ptenv/lib/python3.6/site-packages/sklearn/linear_model/_coordinate_descent.py:527: ConvergenceWarning: Objective did not converge. You might want to increase the number of iterations. Duality gap: 1.3369482246910707, tolerance: 0.7473678257887452\n",
      "  tol, rng, random, positive)\n",
      "/workData2/env/ptenv/lib/python3.6/site-packages/sklearn/linear_model/_coordinate_descent.py:527: ConvergenceWarning: Objective did not converge. You might want to increase the number of iterations. Duality gap: 1.2319798901816625, tolerance: 0.7473678257887452\n",
      "  tol, rng, random, positive)\n",
      "/workData2/env/ptenv/lib/python3.6/site-packages/sklearn/linear_model/_coordinate_descent.py:527: ConvergenceWarning: Objective did not converge. You might want to increase the number of iterations. Duality gap: 0.9870209768523921, tolerance: 0.7473678257887452\n",
      "  tol, rng, random, positive)\n",
      "/workData2/env/ptenv/lib/python3.6/site-packages/sklearn/linear_model/_coordinate_descent.py:527: ConvergenceWarning: Objective did not converge. You might want to increase the number of iterations. Duality gap: 1.7710781419173145, tolerance: 0.7473678257887452\n",
      "  tol, rng, random, positive)\n",
      "/workData2/env/ptenv/lib/python3.6/site-packages/sklearn/linear_model/_coordinate_descent.py:527: ConvergenceWarning: Objective did not converge. You might want to increase the number of iterations. Duality gap: 2.779087123375092, tolerance: 0.7473678257887452\n",
      "  tol, rng, random, positive)\n",
      "/workData2/env/ptenv/lib/python3.6/site-packages/sklearn/linear_model/_coordinate_descent.py:527: ConvergenceWarning: Objective did not converge. You might want to increase the number of iterations. Duality gap: 2.1448671721089454, tolerance: 0.7473678257887452\n",
      "  tol, rng, random, positive)\n",
      "/workData2/env/ptenv/lib/python3.6/site-packages/sklearn/linear_model/_coordinate_descent.py:527: ConvergenceWarning: Objective did not converge. You might want to increase the number of iterations. Duality gap: 2.16969355727295, tolerance: 0.7473678257887452\n",
      "  tol, rng, random, positive)\n",
      "/workData2/env/ptenv/lib/python3.6/site-packages/sklearn/linear_model/_coordinate_descent.py:527: ConvergenceWarning: Objective did not converge. You might want to increase the number of iterations. Duality gap: 4.794077602936511, tolerance: 0.7473678257887452\n",
      "  tol, rng, random, positive)\n",
      "/workData2/env/ptenv/lib/python3.6/site-packages/sklearn/linear_model/_coordinate_descent.py:527: ConvergenceWarning: Objective did not converge. You might want to increase the number of iterations. Duality gap: 4.980190710061663, tolerance: 0.7473678257887452\n",
      "  tol, rng, random, positive)\n",
      "/workData2/env/ptenv/lib/python3.6/site-packages/sklearn/linear_model/_coordinate_descent.py:527: ConvergenceWarning: Objective did not converge. You might want to increase the number of iterations. Duality gap: 1.4772503561332542, tolerance: 0.7431348455702349\n",
      "  tol, rng, random, positive)\n",
      "/workData2/env/ptenv/lib/python3.6/site-packages/sklearn/linear_model/_coordinate_descent.py:527: ConvergenceWarning: Objective did not converge. You might want to increase the number of iterations. Duality gap: 1.1660229745102697, tolerance: 0.7431348455702349\n",
      "  tol, rng, random, positive)\n"
     ]
    },
    {
     "name": "stderr",
     "output_type": "stream",
     "text": [
      "/workData2/env/ptenv/lib/python3.6/site-packages/sklearn/linear_model/_coordinate_descent.py:527: ConvergenceWarning: Objective did not converge. You might want to increase the number of iterations. Duality gap: 2.7418259866970516, tolerance: 0.7431348455702349\n",
      "  tol, rng, random, positive)\n",
      "/workData2/env/ptenv/lib/python3.6/site-packages/sklearn/linear_model/_coordinate_descent.py:527: ConvergenceWarning: Objective did not converge. You might want to increase the number of iterations. Duality gap: 1.8153722627475304, tolerance: 0.7431348455702349\n",
      "  tol, rng, random, positive)\n",
      "/workData2/env/ptenv/lib/python3.6/site-packages/sklearn/linear_model/_coordinate_descent.py:527: ConvergenceWarning: Objective did not converge. You might want to increase the number of iterations. Duality gap: 2.599674647186447, tolerance: 0.7431348455702349\n",
      "  tol, rng, random, positive)\n",
      "/workData2/env/ptenv/lib/python3.6/site-packages/sklearn/linear_model/_coordinate_descent.py:527: ConvergenceWarning: Objective did not converge. You might want to increase the number of iterations. Duality gap: 1.55588884613789, tolerance: 0.7431348455702349\n",
      "  tol, rng, random, positive)\n",
      "/workData2/env/ptenv/lib/python3.6/site-packages/sklearn/linear_model/_coordinate_descent.py:527: ConvergenceWarning: Objective did not converge. You might want to increase the number of iterations. Duality gap: 2.2730907482817884, tolerance: 0.7431348455702349\n",
      "  tol, rng, random, positive)\n",
      "/workData2/env/ptenv/lib/python3.6/site-packages/sklearn/linear_model/_coordinate_descent.py:527: ConvergenceWarning: Objective did not converge. You might want to increase the number of iterations. Duality gap: 2.2381076444278563, tolerance: 0.7431348455702349\n",
      "  tol, rng, random, positive)\n",
      "/workData2/env/ptenv/lib/python3.6/site-packages/sklearn/linear_model/_coordinate_descent.py:527: ConvergenceWarning: Objective did not converge. You might want to increase the number of iterations. Duality gap: 0.9697274296918295, tolerance: 0.7431348455702349\n",
      "  tol, rng, random, positive)\n",
      "/workData2/env/ptenv/lib/python3.6/site-packages/sklearn/linear_model/_coordinate_descent.py:527: ConvergenceWarning: Objective did not converge. You might want to increase the number of iterations. Duality gap: 0.9792015055897707, tolerance: 0.7431348455702349\n",
      "  tol, rng, random, positive)\n",
      "/workData2/env/ptenv/lib/python3.6/site-packages/sklearn/linear_model/_coordinate_descent.py:527: ConvergenceWarning: Objective did not converge. You might want to increase the number of iterations. Duality gap: 1.7194591180369514, tolerance: 0.7431348455702349\n",
      "  tol, rng, random, positive)\n",
      "/workData2/env/ptenv/lib/python3.6/site-packages/sklearn/linear_model/_coordinate_descent.py:527: ConvergenceWarning: Objective did not converge. You might want to increase the number of iterations. Duality gap: 1.9129890097433417, tolerance: 0.7431348455702349\n",
      "  tol, rng, random, positive)\n",
      "/workData2/env/ptenv/lib/python3.6/site-packages/sklearn/linear_model/_coordinate_descent.py:527: ConvergenceWarning: Objective did not converge. You might want to increase the number of iterations. Duality gap: 3.55940655361249, tolerance: 0.7431348455702349\n",
      "  tol, rng, random, positive)\n",
      "/workData2/env/ptenv/lib/python3.6/site-packages/sklearn/linear_model/_coordinate_descent.py:527: ConvergenceWarning: Objective did not converge. You might want to increase the number of iterations. Duality gap: 4.910540040752494, tolerance: 0.7431348455702349\n",
      "  tol, rng, random, positive)\n",
      "/workData2/env/ptenv/lib/python3.6/site-packages/sklearn/linear_model/_coordinate_descent.py:527: ConvergenceWarning: Objective did not converge. You might want to increase the number of iterations. Duality gap: 9.415277242223766, tolerance: 0.7431348455702349\n",
      "  tol, rng, random, positive)\n",
      "/workData2/env/ptenv/lib/python3.6/site-packages/sklearn/linear_model/_coordinate_descent.py:527: ConvergenceWarning: Objective did not converge. You might want to increase the number of iterations. Duality gap: 1.4794179370363167, tolerance: 0.7431292075916446\n",
      "  tol, rng, random, positive)\n",
      "/workData2/env/ptenv/lib/python3.6/site-packages/sklearn/linear_model/_coordinate_descent.py:527: ConvergenceWarning: Objective did not converge. You might want to increase the number of iterations. Duality gap: 0.9948248542253282, tolerance: 0.7431292075916446\n",
      "  tol, rng, random, positive)\n",
      "/workData2/env/ptenv/lib/python3.6/site-packages/sklearn/linear_model/_coordinate_descent.py:527: ConvergenceWarning: Objective did not converge. You might want to increase the number of iterations. Duality gap: 1.1780802113486288, tolerance: 0.7431292075916446\n",
      "  tol, rng, random, positive)\n",
      "/workData2/env/ptenv/lib/python3.6/site-packages/sklearn/linear_model/_coordinate_descent.py:527: ConvergenceWarning: Objective did not converge. You might want to increase the number of iterations. Duality gap: 2.3180597387611215, tolerance: 0.7431292075916446\n",
      "  tol, rng, random, positive)\n",
      "/workData2/env/ptenv/lib/python3.6/site-packages/sklearn/linear_model/_coordinate_descent.py:527: ConvergenceWarning: Objective did not converge. You might want to increase the number of iterations. Duality gap: 1.375554858943815, tolerance: 0.7431292075916446\n",
      "  tol, rng, random, positive)\n",
      "/workData2/env/ptenv/lib/python3.6/site-packages/sklearn/linear_model/_coordinate_descent.py:527: ConvergenceWarning: Objective did not converge. You might want to increase the number of iterations. Duality gap: 2.331599877728877, tolerance: 0.7431292075916446\n",
      "  tol, rng, random, positive)\n",
      "/workData2/env/ptenv/lib/python3.6/site-packages/sklearn/linear_model/_coordinate_descent.py:527: ConvergenceWarning: Objective did not converge. You might want to increase the number of iterations. Duality gap: 1.48084674010272, tolerance: 0.7431292075916446\n",
      "  tol, rng, random, positive)\n",
      "/workData2/env/ptenv/lib/python3.6/site-packages/sklearn/linear_model/_coordinate_descent.py:527: ConvergenceWarning: Objective did not converge. You might want to increase the number of iterations. Duality gap: 2.956940608571017, tolerance: 0.7431292075916446\n",
      "  tol, rng, random, positive)\n",
      "/workData2/env/ptenv/lib/python3.6/site-packages/sklearn/linear_model/_coordinate_descent.py:527: ConvergenceWarning: Objective did not converge. You might want to increase the number of iterations. Duality gap: 2.2649522133192477, tolerance: 0.7431292075916446\n",
      "  tol, rng, random, positive)\n",
      "/workData2/env/ptenv/lib/python3.6/site-packages/sklearn/linear_model/_coordinate_descent.py:527: ConvergenceWarning: Objective did not converge. You might want to increase the number of iterations. Duality gap: 1.1944941368066964, tolerance: 0.7431292075916446\n",
      "  tol, rng, random, positive)\n",
      "/workData2/env/ptenv/lib/python3.6/site-packages/sklearn/linear_model/_coordinate_descent.py:527: ConvergenceWarning: Objective did not converge. You might want to increase the number of iterations. Duality gap: 1.9460562831322363, tolerance: 0.7431292075916446\n",
      "  tol, rng, random, positive)\n",
      "/workData2/env/ptenv/lib/python3.6/site-packages/sklearn/linear_model/_coordinate_descent.py:527: ConvergenceWarning: Objective did not converge. You might want to increase the number of iterations. Duality gap: 2.3235052982319644, tolerance: 0.7431292075916446\n",
      "  tol, rng, random, positive)\n",
      "/workData2/env/ptenv/lib/python3.6/site-packages/sklearn/linear_model/_coordinate_descent.py:527: ConvergenceWarning: Objective did not converge. You might want to increase the number of iterations. Duality gap: 1.4363694313963151, tolerance: 0.7431292075916446\n",
      "  tol, rng, random, positive)\n",
      "/workData2/env/ptenv/lib/python3.6/site-packages/sklearn/linear_model/_coordinate_descent.py:527: ConvergenceWarning: Objective did not converge. You might want to increase the number of iterations. Duality gap: 1.8146359202484632, tolerance: 0.7431292075916446\n",
      "  tol, rng, random, positive)\n",
      "/workData2/env/ptenv/lib/python3.6/site-packages/sklearn/linear_model/_coordinate_descent.py:527: ConvergenceWarning: Objective did not converge. You might want to increase the number of iterations. Duality gap: 4.961599953426003, tolerance: 0.7431292075916446\n",
      "  tol, rng, random, positive)\n",
      "/workData2/env/ptenv/lib/python3.6/site-packages/sklearn/linear_model/_coordinate_descent.py:527: ConvergenceWarning: Objective did not converge. You might want to increase the number of iterations. Duality gap: 13.21839797159943, tolerance: 0.7431292075916446\n",
      "  tol, rng, random, positive)\n"
     ]
    },
    {
     "name": "stderr",
     "output_type": "stream",
     "text": [
      "/workData2/env/ptenv/lib/python3.6/site-packages/sklearn/linear_model/_coordinate_descent.py:531: ConvergenceWarning: Objective did not converge. You might want to increase the number of iterations. Duality gap: 10.053552547595302, tolerance: 0.826371066220157\n",
      "  positive)\n"
     ]
    },
    {
     "data": {
      "text/plain": [
       "0.00339322177189533"
      ]
     },
     "execution_count": 9,
     "metadata": {},
     "output_type": "execute_result"
    }
   ],
   "source": [
    "alphas = np.logspace(-4, 1, 50)\n",
    "clf = LassoCV(alphas=alphas, cv=10)\n",
    "clf.fit(X_train_std,y_train[:,1])\n",
    "clf.alpha_"
   ]
  },
  {
   "cell_type": "code",
   "execution_count": 10,
   "metadata": {},
   "outputs": [
    {
     "name": "stdout",
     "output_type": "stream",
     "text": [
      "(7898, 775)\n",
      "(1975, 775)\n"
     ]
    }
   ],
   "source": [
    "mask = clf.coef_ != 0\n",
    "X_1 = X_train_std[:,mask]\n",
    "print(X_1.shape)\n",
    "X_2 = X_val_std[:,mask]\n",
    "print(X_2.shape)"
   ]
  },
  {
   "cell_type": "markdown",
   "metadata": {},
   "source": [
    "## model training and test"
   ]
  },
  {
   "cell_type": "code",
   "execution_count": 11,
   "metadata": {},
   "outputs": [
    {
     "name": "stdout",
     "output_type": "stream",
     "text": [
      "logg MAE: 0.1523727101531931\n",
      "logg mu: 0.01713725398574798\n",
      "logg sigma: 0.2580123436661139\n"
     ]
    }
   ],
   "source": [
    "clf0 = MLPRegressor(hidden_layer_sizes=(600,50), learning_rate_init=0.00002,activation='logistic', max_iter=2000, early_stopping=True, random_state=1)\n",
    "clf0.fit(X_1, y_train[:,1])\n",
    "y_pred0 = clf0.predict(X_2)\n",
    "print('logg MAE:', mean_absolute_error(y_pred0, y_val[:, 1]))\n",
    "diff_logg = y_pred0 - y_val[:,1]\n",
    "mu = np.mean(diff_logg)\n",
    "sigma = np.std(diff_logg)\n",
    "print('logg mu:',mu)\n",
    "print('logg sigma:',sigma)"
   ]
  },
  {
   "cell_type": "markdown",
   "metadata": {},
   "source": [
    "# the model of [Fe/H]"
   ]
  },
  {
   "cell_type": "markdown",
   "metadata": {},
   "source": [
    "## feature extraction by LASSO"
   ]
  },
  {
   "cell_type": "code",
   "execution_count": 12,
   "metadata": {},
   "outputs": [
    {
     "name": "stderr",
     "output_type": "stream",
     "text": [
      "/workData2/env/ptenv/lib/python3.6/site-packages/sklearn/linear_model/_coordinate_descent.py:527: ConvergenceWarning: Objective did not converge. You might want to increase the number of iterations. Duality gap: 0.10099010963141097, tolerance: 0.06053742764866348\n",
      "  tol, rng, random, positive)\n",
      "/workData2/env/ptenv/lib/python3.6/site-packages/sklearn/linear_model/_coordinate_descent.py:527: ConvergenceWarning: Objective did not converge. You might want to increase the number of iterations. Duality gap: 0.10212877194511094, tolerance: 0.06053742764866348\n",
      "  tol, rng, random, positive)\n",
      "/workData2/env/ptenv/lib/python3.6/site-packages/sklearn/linear_model/_coordinate_descent.py:527: ConvergenceWarning: Objective did not converge. You might want to increase the number of iterations. Duality gap: 0.23328654428689077, tolerance: 0.06053742764866348\n",
      "  tol, rng, random, positive)\n",
      "/workData2/env/ptenv/lib/python3.6/site-packages/sklearn/linear_model/_coordinate_descent.py:527: ConvergenceWarning: Objective did not converge. You might want to increase the number of iterations. Duality gap: 0.1429595477963801, tolerance: 0.06053742764866348\n",
      "  tol, rng, random, positive)\n",
      "/workData2/env/ptenv/lib/python3.6/site-packages/sklearn/linear_model/_coordinate_descent.py:527: ConvergenceWarning: Objective did not converge. You might want to increase the number of iterations. Duality gap: 0.10247992154519636, tolerance: 0.06053742764866348\n",
      "  tol, rng, random, positive)\n",
      "/workData2/env/ptenv/lib/python3.6/site-packages/sklearn/linear_model/_coordinate_descent.py:527: ConvergenceWarning: Objective did not converge. You might want to increase the number of iterations. Duality gap: 0.4228795683769633, tolerance: 0.06053742764866348\n",
      "  tol, rng, random, positive)\n",
      "/workData2/env/ptenv/lib/python3.6/site-packages/sklearn/linear_model/_coordinate_descent.py:527: ConvergenceWarning: Objective did not converge. You might want to increase the number of iterations. Duality gap: 0.3928096497115945, tolerance: 0.06053742764866348\n",
      "  tol, rng, random, positive)\n",
      "/workData2/env/ptenv/lib/python3.6/site-packages/sklearn/linear_model/_coordinate_descent.py:527: ConvergenceWarning: Objective did not converge. You might want to increase the number of iterations. Duality gap: 0.29218165328470036, tolerance: 0.06053742764866348\n",
      "  tol, rng, random, positive)\n",
      "/workData2/env/ptenv/lib/python3.6/site-packages/sklearn/linear_model/_coordinate_descent.py:527: ConvergenceWarning: Objective did not converge. You might want to increase the number of iterations. Duality gap: 0.43546536518167045, tolerance: 0.06053742764866348\n",
      "  tol, rng, random, positive)\n",
      "/workData2/env/ptenv/lib/python3.6/site-packages/sklearn/linear_model/_coordinate_descent.py:527: ConvergenceWarning: Objective did not converge. You might want to increase the number of iterations. Duality gap: 0.3146572381289303, tolerance: 0.06053742764866348\n",
      "  tol, rng, random, positive)\n",
      "/workData2/env/ptenv/lib/python3.6/site-packages/sklearn/linear_model/_coordinate_descent.py:527: ConvergenceWarning: Objective did not converge. You might want to increase the number of iterations. Duality gap: 0.5384789298426433, tolerance: 0.06053742764866348\n",
      "  tol, rng, random, positive)\n",
      "/workData2/env/ptenv/lib/python3.6/site-packages/sklearn/linear_model/_coordinate_descent.py:527: ConvergenceWarning: Objective did not converge. You might want to increase the number of iterations. Duality gap: 0.14728648633271035, tolerance: 0.05930541002345246\n",
      "  tol, rng, random, positive)\n",
      "/workData2/env/ptenv/lib/python3.6/site-packages/sklearn/linear_model/_coordinate_descent.py:527: ConvergenceWarning: Objective did not converge. You might want to increase the number of iterations. Duality gap: 0.137675379934052, tolerance: 0.05930541002345246\n",
      "  tol, rng, random, positive)\n",
      "/workData2/env/ptenv/lib/python3.6/site-packages/sklearn/linear_model/_coordinate_descent.py:527: ConvergenceWarning: Objective did not converge. You might want to increase the number of iterations. Duality gap: 0.19183777816326142, tolerance: 0.05930541002345246\n",
      "  tol, rng, random, positive)\n",
      "/workData2/env/ptenv/lib/python3.6/site-packages/sklearn/linear_model/_coordinate_descent.py:527: ConvergenceWarning: Objective did not converge. You might want to increase the number of iterations. Duality gap: 0.2872727615483939, tolerance: 0.05930541002345246\n",
      "  tol, rng, random, positive)\n",
      "/workData2/env/ptenv/lib/python3.6/site-packages/sklearn/linear_model/_coordinate_descent.py:527: ConvergenceWarning: Objective did not converge. You might want to increase the number of iterations. Duality gap: 0.32907200477456655, tolerance: 0.05930541002345246\n",
      "  tol, rng, random, positive)\n",
      "/workData2/env/ptenv/lib/python3.6/site-packages/sklearn/linear_model/_coordinate_descent.py:527: ConvergenceWarning: Objective did not converge. You might want to increase the number of iterations. Duality gap: 0.5231271035720653, tolerance: 0.05930541002345246\n",
      "  tol, rng, random, positive)\n",
      "/workData2/env/ptenv/lib/python3.6/site-packages/sklearn/linear_model/_coordinate_descent.py:527: ConvergenceWarning: Objective did not converge. You might want to increase the number of iterations. Duality gap: 0.3686706454573567, tolerance: 0.05930541002345246\n",
      "  tol, rng, random, positive)\n",
      "/workData2/env/ptenv/lib/python3.6/site-packages/sklearn/linear_model/_coordinate_descent.py:527: ConvergenceWarning: Objective did not converge. You might want to increase the number of iterations. Duality gap: 0.29803080774078694, tolerance: 0.05930541002345246\n",
      "  tol, rng, random, positive)\n",
      "/workData2/env/ptenv/lib/python3.6/site-packages/sklearn/linear_model/_coordinate_descent.py:527: ConvergenceWarning: Objective did not converge. You might want to increase the number of iterations. Duality gap: 0.29597422532107487, tolerance: 0.05930541002345246\n",
      "  tol, rng, random, positive)\n",
      "/workData2/env/ptenv/lib/python3.6/site-packages/sklearn/linear_model/_coordinate_descent.py:527: ConvergenceWarning: Objective did not converge. You might want to increase the number of iterations. Duality gap: 0.40899783529742706, tolerance: 0.05930541002345246\n",
      "  tol, rng, random, positive)\n",
      "/workData2/env/ptenv/lib/python3.6/site-packages/sklearn/linear_model/_coordinate_descent.py:527: ConvergenceWarning: Objective did not converge. You might want to increase the number of iterations. Duality gap: 0.13880235403230756, tolerance: 0.05915829932037142\n",
      "  tol, rng, random, positive)\n",
      "/workData2/env/ptenv/lib/python3.6/site-packages/sklearn/linear_model/_coordinate_descent.py:527: ConvergenceWarning: Objective did not converge. You might want to increase the number of iterations. Duality gap: 0.09649581266644702, tolerance: 0.05915829932037142\n",
      "  tol, rng, random, positive)\n",
      "/workData2/env/ptenv/lib/python3.6/site-packages/sklearn/linear_model/_coordinate_descent.py:527: ConvergenceWarning: Objective did not converge. You might want to increase the number of iterations. Duality gap: 0.19896296271696912, tolerance: 0.05915829932037142\n",
      "  tol, rng, random, positive)\n",
      "/workData2/env/ptenv/lib/python3.6/site-packages/sklearn/linear_model/_coordinate_descent.py:527: ConvergenceWarning: Objective did not converge. You might want to increase the number of iterations. Duality gap: 0.14918850738395406, tolerance: 0.05915829932037142\n",
      "  tol, rng, random, positive)\n",
      "/workData2/env/ptenv/lib/python3.6/site-packages/sklearn/linear_model/_coordinate_descent.py:527: ConvergenceWarning: Objective did not converge. You might want to increase the number of iterations. Duality gap: 0.41249998633539064, tolerance: 0.05915829932037142\n",
      "  tol, rng, random, positive)\n",
      "/workData2/env/ptenv/lib/python3.6/site-packages/sklearn/linear_model/_coordinate_descent.py:527: ConvergenceWarning: Objective did not converge. You might want to increase the number of iterations. Duality gap: 0.4685588919026884, tolerance: 0.05915829932037142\n",
      "  tol, rng, random, positive)\n",
      "/workData2/env/ptenv/lib/python3.6/site-packages/sklearn/linear_model/_coordinate_descent.py:527: ConvergenceWarning: Objective did not converge. You might want to increase the number of iterations. Duality gap: 0.6850358540349077, tolerance: 0.05915829932037142\n",
      "  tol, rng, random, positive)\n"
     ]
    },
    {
     "name": "stderr",
     "output_type": "stream",
     "text": [
      "/workData2/env/ptenv/lib/python3.6/site-packages/sklearn/linear_model/_coordinate_descent.py:527: ConvergenceWarning: Objective did not converge. You might want to increase the number of iterations. Duality gap: 0.5106386517313979, tolerance: 0.05915829932037142\n",
      "  tol, rng, random, positive)\n",
      "/workData2/env/ptenv/lib/python3.6/site-packages/sklearn/linear_model/_coordinate_descent.py:527: ConvergenceWarning: Objective did not converge. You might want to increase the number of iterations. Duality gap: 0.32565855066108895, tolerance: 0.05915829932037142\n",
      "  tol, rng, random, positive)\n",
      "/workData2/env/ptenv/lib/python3.6/site-packages/sklearn/linear_model/_coordinate_descent.py:527: ConvergenceWarning: Objective did not converge. You might want to increase the number of iterations. Duality gap: 0.2952060329655808, tolerance: 0.05915829932037142\n",
      "  tol, rng, random, positive)\n",
      "/workData2/env/ptenv/lib/python3.6/site-packages/sklearn/linear_model/_coordinate_descent.py:527: ConvergenceWarning: Objective did not converge. You might want to increase the number of iterations. Duality gap: 1.9078238877347005, tolerance: 0.05915829932037142\n",
      "  tol, rng, random, positive)\n",
      "/workData2/env/ptenv/lib/python3.6/site-packages/sklearn/linear_model/_coordinate_descent.py:527: ConvergenceWarning: Objective did not converge. You might want to increase the number of iterations. Duality gap: 0.10495629640884374, tolerance: 0.05957832417169386\n",
      "  tol, rng, random, positive)\n",
      "/workData2/env/ptenv/lib/python3.6/site-packages/sklearn/linear_model/_coordinate_descent.py:527: ConvergenceWarning: Objective did not converge. You might want to increase the number of iterations. Duality gap: 0.10996760059236266, tolerance: 0.05957832417169386\n",
      "  tol, rng, random, positive)\n",
      "/workData2/env/ptenv/lib/python3.6/site-packages/sklearn/linear_model/_coordinate_descent.py:527: ConvergenceWarning: Objective did not converge. You might want to increase the number of iterations. Duality gap: 0.1383341535226279, tolerance: 0.05957832417169386\n",
      "  tol, rng, random, positive)\n",
      "/workData2/env/ptenv/lib/python3.6/site-packages/sklearn/linear_model/_coordinate_descent.py:527: ConvergenceWarning: Objective did not converge. You might want to increase the number of iterations. Duality gap: 0.35662168791397164, tolerance: 0.05957832417169386\n",
      "  tol, rng, random, positive)\n",
      "/workData2/env/ptenv/lib/python3.6/site-packages/sklearn/linear_model/_coordinate_descent.py:527: ConvergenceWarning: Objective did not converge. You might want to increase the number of iterations. Duality gap: 0.7627351561470235, tolerance: 0.05957832417169386\n",
      "  tol, rng, random, positive)\n",
      "/workData2/env/ptenv/lib/python3.6/site-packages/sklearn/linear_model/_coordinate_descent.py:527: ConvergenceWarning: Objective did not converge. You might want to increase the number of iterations. Duality gap: 0.4062096985801844, tolerance: 0.05957832417169386\n",
      "  tol, rng, random, positive)\n",
      "/workData2/env/ptenv/lib/python3.6/site-packages/sklearn/linear_model/_coordinate_descent.py:527: ConvergenceWarning: Objective did not converge. You might want to increase the number of iterations. Duality gap: 0.25232618589144806, tolerance: 0.05957832417169386\n",
      "  tol, rng, random, positive)\n",
      "/workData2/env/ptenv/lib/python3.6/site-packages/sklearn/linear_model/_coordinate_descent.py:527: ConvergenceWarning: Objective did not converge. You might want to increase the number of iterations. Duality gap: 0.6338065968726383, tolerance: 0.05957832417169386\n",
      "  tol, rng, random, positive)\n",
      "/workData2/env/ptenv/lib/python3.6/site-packages/sklearn/linear_model/_coordinate_descent.py:527: ConvergenceWarning: Objective did not converge. You might want to increase the number of iterations. Duality gap: 1.6086486980743615, tolerance: 0.05957832417169386\n",
      "  tol, rng, random, positive)\n",
      "/workData2/env/ptenv/lib/python3.6/site-packages/sklearn/linear_model/_coordinate_descent.py:527: ConvergenceWarning: Objective did not converge. You might want to increase the number of iterations. Duality gap: 0.14345240282724347, tolerance: 0.05901990756672763\n",
      "  tol, rng, random, positive)\n",
      "/workData2/env/ptenv/lib/python3.6/site-packages/sklearn/linear_model/_coordinate_descent.py:527: ConvergenceWarning: Objective did not converge. You might want to increase the number of iterations. Duality gap: 0.1882538030758596, tolerance: 0.05901990756672763\n",
      "  tol, rng, random, positive)\n",
      "/workData2/env/ptenv/lib/python3.6/site-packages/sklearn/linear_model/_coordinate_descent.py:527: ConvergenceWarning: Objective did not converge. You might want to increase the number of iterations. Duality gap: 0.261981879075627, tolerance: 0.05901990756672763\n",
      "  tol, rng, random, positive)\n",
      "/workData2/env/ptenv/lib/python3.6/site-packages/sklearn/linear_model/_coordinate_descent.py:527: ConvergenceWarning: Objective did not converge. You might want to increase the number of iterations. Duality gap: 0.17503973004635043, tolerance: 0.05901990756672763\n",
      "  tol, rng, random, positive)\n",
      "/workData2/env/ptenv/lib/python3.6/site-packages/sklearn/linear_model/_coordinate_descent.py:527: ConvergenceWarning: Objective did not converge. You might want to increase the number of iterations. Duality gap: 0.4691410971629111, tolerance: 0.05901990756672763\n",
      "  tol, rng, random, positive)\n",
      "/workData2/env/ptenv/lib/python3.6/site-packages/sklearn/linear_model/_coordinate_descent.py:527: ConvergenceWarning: Objective did not converge. You might want to increase the number of iterations. Duality gap: 0.6882208895638939, tolerance: 0.05901990756672763\n",
      "  tol, rng, random, positive)\n",
      "/workData2/env/ptenv/lib/python3.6/site-packages/sklearn/linear_model/_coordinate_descent.py:527: ConvergenceWarning: Objective did not converge. You might want to increase the number of iterations. Duality gap: 0.41071441176316625, tolerance: 0.05901990756672763\n",
      "  tol, rng, random, positive)\n",
      "/workData2/env/ptenv/lib/python3.6/site-packages/sklearn/linear_model/_coordinate_descent.py:527: ConvergenceWarning: Objective did not converge. You might want to increase the number of iterations. Duality gap: 0.343673594881551, tolerance: 0.05901990756672763\n",
      "  tol, rng, random, positive)\n",
      "/workData2/env/ptenv/lib/python3.6/site-packages/sklearn/linear_model/_coordinate_descent.py:527: ConvergenceWarning: Objective did not converge. You might want to increase the number of iterations. Duality gap: 0.3952236628557628, tolerance: 0.05901990756672763\n",
      "  tol, rng, random, positive)\n",
      "/workData2/env/ptenv/lib/python3.6/site-packages/sklearn/linear_model/_coordinate_descent.py:527: ConvergenceWarning: Objective did not converge. You might want to increase the number of iterations. Duality gap: 1.4249928221212258, tolerance: 0.05901990756672763\n",
      "  tol, rng, random, positive)\n",
      "/workData2/env/ptenv/lib/python3.6/site-packages/sklearn/linear_model/_coordinate_descent.py:527: ConvergenceWarning: Objective did not converge. You might want to increase the number of iterations. Duality gap: 0.084819016296386, tolerance: 0.060190919561676985\n",
      "  tol, rng, random, positive)\n",
      "/workData2/env/ptenv/lib/python3.6/site-packages/sklearn/linear_model/_coordinate_descent.py:527: ConvergenceWarning: Objective did not converge. You might want to increase the number of iterations. Duality gap: 0.08665989598470958, tolerance: 0.060190919561676985\n",
      "  tol, rng, random, positive)\n",
      "/workData2/env/ptenv/lib/python3.6/site-packages/sklearn/linear_model/_coordinate_descent.py:527: ConvergenceWarning: Objective did not converge. You might want to increase the number of iterations. Duality gap: 0.15712323001071127, tolerance: 0.060190919561676985\n",
      "  tol, rng, random, positive)\n",
      "/workData2/env/ptenv/lib/python3.6/site-packages/sklearn/linear_model/_coordinate_descent.py:527: ConvergenceWarning: Objective did not converge. You might want to increase the number of iterations. Duality gap: 0.2096778570184199, tolerance: 0.060190919561676985\n",
      "  tol, rng, random, positive)\n",
      "/workData2/env/ptenv/lib/python3.6/site-packages/sklearn/linear_model/_coordinate_descent.py:527: ConvergenceWarning: Objective did not converge. You might want to increase the number of iterations. Duality gap: 0.17999403947024462, tolerance: 0.060190919561676985\n",
      "  tol, rng, random, positive)\n"
     ]
    },
    {
     "name": "stderr",
     "output_type": "stream",
     "text": [
      "/workData2/env/ptenv/lib/python3.6/site-packages/sklearn/linear_model/_coordinate_descent.py:527: ConvergenceWarning: Objective did not converge. You might want to increase the number of iterations. Duality gap: 0.5643854813173874, tolerance: 0.060190919561676985\n",
      "  tol, rng, random, positive)\n",
      "/workData2/env/ptenv/lib/python3.6/site-packages/sklearn/linear_model/_coordinate_descent.py:527: ConvergenceWarning: Objective did not converge. You might want to increase the number of iterations. Duality gap: 0.5783636378771178, tolerance: 0.060190919561676985\n",
      "  tol, rng, random, positive)\n",
      "/workData2/env/ptenv/lib/python3.6/site-packages/sklearn/linear_model/_coordinate_descent.py:527: ConvergenceWarning: Objective did not converge. You might want to increase the number of iterations. Duality gap: 0.384146544305068, tolerance: 0.060190919561676985\n",
      "  tol, rng, random, positive)\n",
      "/workData2/env/ptenv/lib/python3.6/site-packages/sklearn/linear_model/_coordinate_descent.py:527: ConvergenceWarning: Objective did not converge. You might want to increase the number of iterations. Duality gap: 0.4963514382281886, tolerance: 0.060190919561676985\n",
      "  tol, rng, random, positive)\n",
      "/workData2/env/ptenv/lib/python3.6/site-packages/sklearn/linear_model/_coordinate_descent.py:527: ConvergenceWarning: Objective did not converge. You might want to increase the number of iterations. Duality gap: 0.4013658421326767, tolerance: 0.060190919561676985\n",
      "  tol, rng, random, positive)\n",
      "/workData2/env/ptenv/lib/python3.6/site-packages/sklearn/linear_model/_coordinate_descent.py:527: ConvergenceWarning: Objective did not converge. You might want to increase the number of iterations. Duality gap: 0.49576398104056096, tolerance: 0.060190919561676985\n",
      "  tol, rng, random, positive)\n",
      "/workData2/env/ptenv/lib/python3.6/site-packages/sklearn/linear_model/_coordinate_descent.py:527: ConvergenceWarning: Objective did not converge. You might want to increase the number of iterations. Duality gap: 0.14871306486696767, tolerance: 0.059871612609679235\n",
      "  tol, rng, random, positive)\n",
      "/workData2/env/ptenv/lib/python3.6/site-packages/sklearn/linear_model/_coordinate_descent.py:527: ConvergenceWarning: Objective did not converge. You might want to increase the number of iterations. Duality gap: 0.29015566020289896, tolerance: 0.059871612609679235\n",
      "  tol, rng, random, positive)\n",
      "/workData2/env/ptenv/lib/python3.6/site-packages/sklearn/linear_model/_coordinate_descent.py:527: ConvergenceWarning: Objective did not converge. You might want to increase the number of iterations. Duality gap: 0.2693177320478668, tolerance: 0.059871612609679235\n",
      "  tol, rng, random, positive)\n",
      "/workData2/env/ptenv/lib/python3.6/site-packages/sklearn/linear_model/_coordinate_descent.py:527: ConvergenceWarning: Objective did not converge. You might want to increase the number of iterations. Duality gap: 0.45061210030650045, tolerance: 0.059871612609679235\n",
      "  tol, rng, random, positive)\n",
      "/workData2/env/ptenv/lib/python3.6/site-packages/sklearn/linear_model/_coordinate_descent.py:527: ConvergenceWarning: Objective did not converge. You might want to increase the number of iterations. Duality gap: 0.7770974998153406, tolerance: 0.059871612609679235\n",
      "  tol, rng, random, positive)\n",
      "/workData2/env/ptenv/lib/python3.6/site-packages/sklearn/linear_model/_coordinate_descent.py:527: ConvergenceWarning: Objective did not converge. You might want to increase the number of iterations. Duality gap: 0.3321661408679546, tolerance: 0.059871612609679235\n",
      "  tol, rng, random, positive)\n",
      "/workData2/env/ptenv/lib/python3.6/site-packages/sklearn/linear_model/_coordinate_descent.py:527: ConvergenceWarning: Objective did not converge. You might want to increase the number of iterations. Duality gap: 0.6570350944453764, tolerance: 0.059871612609679235\n",
      "  tol, rng, random, positive)\n",
      "/workData2/env/ptenv/lib/python3.6/site-packages/sklearn/linear_model/_coordinate_descent.py:527: ConvergenceWarning: Objective did not converge. You might want to increase the number of iterations. Duality gap: 0.6783315326670376, tolerance: 0.059871612609679235\n",
      "  tol, rng, random, positive)\n",
      "/workData2/env/ptenv/lib/python3.6/site-packages/sklearn/linear_model/_coordinate_descent.py:527: ConvergenceWarning: Objective did not converge. You might want to increase the number of iterations. Duality gap: 1.934145960727669, tolerance: 0.059871612609679235\n",
      "  tol, rng, random, positive)\n",
      "/workData2/env/ptenv/lib/python3.6/site-packages/sklearn/linear_model/_coordinate_descent.py:527: ConvergenceWarning: Objective did not converge. You might want to increase the number of iterations. Duality gap: 0.07595527894031306, tolerance: 0.05896098176764209\n",
      "  tol, rng, random, positive)\n",
      "/workData2/env/ptenv/lib/python3.6/site-packages/sklearn/linear_model/_coordinate_descent.py:527: ConvergenceWarning: Objective did not converge. You might want to increase the number of iterations. Duality gap: 0.19808479910633991, tolerance: 0.05896098176764209\n",
      "  tol, rng, random, positive)\n",
      "/workData2/env/ptenv/lib/python3.6/site-packages/sklearn/linear_model/_coordinate_descent.py:527: ConvergenceWarning: Objective did not converge. You might want to increase the number of iterations. Duality gap: 0.13533963784983172, tolerance: 0.05896098176764209\n",
      "  tol, rng, random, positive)\n",
      "/workData2/env/ptenv/lib/python3.6/site-packages/sklearn/linear_model/_coordinate_descent.py:527: ConvergenceWarning: Objective did not converge. You might want to increase the number of iterations. Duality gap: 0.15229684317652925, tolerance: 0.05896098176764209\n",
      "  tol, rng, random, positive)\n",
      "/workData2/env/ptenv/lib/python3.6/site-packages/sklearn/linear_model/_coordinate_descent.py:527: ConvergenceWarning: Objective did not converge. You might want to increase the number of iterations. Duality gap: 0.17949755520010768, tolerance: 0.05896098176764209\n",
      "  tol, rng, random, positive)\n",
      "/workData2/env/ptenv/lib/python3.6/site-packages/sklearn/linear_model/_coordinate_descent.py:527: ConvergenceWarning: Objective did not converge. You might want to increase the number of iterations. Duality gap: 0.44373920044402837, tolerance: 0.05896098176764209\n",
      "  tol, rng, random, positive)\n",
      "/workData2/env/ptenv/lib/python3.6/site-packages/sklearn/linear_model/_coordinate_descent.py:527: ConvergenceWarning: Objective did not converge. You might want to increase the number of iterations. Duality gap: 0.4988973399727712, tolerance: 0.05896098176764209\n",
      "  tol, rng, random, positive)\n",
      "/workData2/env/ptenv/lib/python3.6/site-packages/sklearn/linear_model/_coordinate_descent.py:527: ConvergenceWarning: Objective did not converge. You might want to increase the number of iterations. Duality gap: 0.24438864261619386, tolerance: 0.05896098176764209\n",
      "  tol, rng, random, positive)\n",
      "/workData2/env/ptenv/lib/python3.6/site-packages/sklearn/linear_model/_coordinate_descent.py:527: ConvergenceWarning: Objective did not converge. You might want to increase the number of iterations. Duality gap: 0.4889721133786722, tolerance: 0.05896098176764209\n",
      "  tol, rng, random, positive)\n",
      "/workData2/env/ptenv/lib/python3.6/site-packages/sklearn/linear_model/_coordinate_descent.py:527: ConvergenceWarning: Objective did not converge. You might want to increase the number of iterations. Duality gap: 1.449620701565422, tolerance: 0.05896098176764209\n",
      "  tol, rng, random, positive)\n",
      "/workData2/env/ptenv/lib/python3.6/site-packages/sklearn/linear_model/_coordinate_descent.py:527: ConvergenceWarning: Objective did not converge. You might want to increase the number of iterations. Duality gap: 3.206902706671073, tolerance: 0.05896098176764209\n",
      "  tol, rng, random, positive)\n",
      "/workData2/env/ptenv/lib/python3.6/site-packages/sklearn/linear_model/_coordinate_descent.py:527: ConvergenceWarning: Objective did not converge. You might want to increase the number of iterations. Duality gap: 0.16636379815318492, tolerance: 0.060431430125868615\n",
      "  tol, rng, random, positive)\n",
      "/workData2/env/ptenv/lib/python3.6/site-packages/sklearn/linear_model/_coordinate_descent.py:527: ConvergenceWarning: Objective did not converge. You might want to increase the number of iterations. Duality gap: 0.09683745289187584, tolerance: 0.060431430125868615\n",
      "  tol, rng, random, positive)\n"
     ]
    },
    {
     "name": "stderr",
     "output_type": "stream",
     "text": [
      "/workData2/env/ptenv/lib/python3.6/site-packages/sklearn/linear_model/_coordinate_descent.py:527: ConvergenceWarning: Objective did not converge. You might want to increase the number of iterations. Duality gap: 0.15691210343871376, tolerance: 0.060431430125868615\n",
      "  tol, rng, random, positive)\n",
      "/workData2/env/ptenv/lib/python3.6/site-packages/sklearn/linear_model/_coordinate_descent.py:527: ConvergenceWarning: Objective did not converge. You might want to increase the number of iterations. Duality gap: 0.24837531928872636, tolerance: 0.060431430125868615\n",
      "  tol, rng, random, positive)\n",
      "/workData2/env/ptenv/lib/python3.6/site-packages/sklearn/linear_model/_coordinate_descent.py:527: ConvergenceWarning: Objective did not converge. You might want to increase the number of iterations. Duality gap: 0.22265066720392213, tolerance: 0.060431430125868615\n",
      "  tol, rng, random, positive)\n",
      "/workData2/env/ptenv/lib/python3.6/site-packages/sklearn/linear_model/_coordinate_descent.py:527: ConvergenceWarning: Objective did not converge. You might want to increase the number of iterations. Duality gap: 0.3939692012687246, tolerance: 0.060431430125868615\n",
      "  tol, rng, random, positive)\n",
      "/workData2/env/ptenv/lib/python3.6/site-packages/sklearn/linear_model/_coordinate_descent.py:527: ConvergenceWarning: Objective did not converge. You might want to increase the number of iterations. Duality gap: 0.32220332312569155, tolerance: 0.060431430125868615\n",
      "  tol, rng, random, positive)\n",
      "/workData2/env/ptenv/lib/python3.6/site-packages/sklearn/linear_model/_coordinate_descent.py:527: ConvergenceWarning: Objective did not converge. You might want to increase the number of iterations. Duality gap: 0.33286851071853363, tolerance: 0.060431430125868615\n",
      "  tol, rng, random, positive)\n",
      "/workData2/env/ptenv/lib/python3.6/site-packages/sklearn/linear_model/_coordinate_descent.py:527: ConvergenceWarning: Objective did not converge. You might want to increase the number of iterations. Duality gap: 0.3003482173126173, tolerance: 0.060431430125868615\n",
      "  tol, rng, random, positive)\n",
      "/workData2/env/ptenv/lib/python3.6/site-packages/sklearn/linear_model/_coordinate_descent.py:527: ConvergenceWarning: Objective did not converge. You might want to increase the number of iterations. Duality gap: 0.3008749336220191, tolerance: 0.060431430125868615\n",
      "  tol, rng, random, positive)\n",
      "/workData2/env/ptenv/lib/python3.6/site-packages/sklearn/linear_model/_coordinate_descent.py:527: ConvergenceWarning: Objective did not converge. You might want to increase the number of iterations. Duality gap: 1.5027180420829396, tolerance: 0.060431430125868615\n",
      "  tol, rng, random, positive)\n",
      "/workData2/env/ptenv/lib/python3.6/site-packages/sklearn/linear_model/_coordinate_descent.py:527: ConvergenceWarning: Objective did not converge. You might want to increase the number of iterations. Duality gap: 0.10652095953108187, tolerance: 0.05997006419949362\n",
      "  tol, rng, random, positive)\n",
      "/workData2/env/ptenv/lib/python3.6/site-packages/sklearn/linear_model/_coordinate_descent.py:527: ConvergenceWarning: Objective did not converge. You might want to increase the number of iterations. Duality gap: 0.16419149973322078, tolerance: 0.05997006419949362\n",
      "  tol, rng, random, positive)\n",
      "/workData2/env/ptenv/lib/python3.6/site-packages/sklearn/linear_model/_coordinate_descent.py:527: ConvergenceWarning: Objective did not converge. You might want to increase the number of iterations. Duality gap: 0.17238381479660347, tolerance: 0.05997006419949362\n",
      "  tol, rng, random, positive)\n",
      "/workData2/env/ptenv/lib/python3.6/site-packages/sklearn/linear_model/_coordinate_descent.py:527: ConvergenceWarning: Objective did not converge. You might want to increase the number of iterations. Duality gap: 0.18404004193278922, tolerance: 0.05997006419949362\n",
      "  tol, rng, random, positive)\n",
      "/workData2/env/ptenv/lib/python3.6/site-packages/sklearn/linear_model/_coordinate_descent.py:527: ConvergenceWarning: Objective did not converge. You might want to increase the number of iterations. Duality gap: 0.22917853113409592, tolerance: 0.05997006419949362\n",
      "  tol, rng, random, positive)\n",
      "/workData2/env/ptenv/lib/python3.6/site-packages/sklearn/linear_model/_coordinate_descent.py:527: ConvergenceWarning: Objective did not converge. You might want to increase the number of iterations. Duality gap: 0.28157492748054835, tolerance: 0.05997006419949362\n",
      "  tol, rng, random, positive)\n",
      "/workData2/env/ptenv/lib/python3.6/site-packages/sklearn/linear_model/_coordinate_descent.py:527: ConvergenceWarning: Objective did not converge. You might want to increase the number of iterations. Duality gap: 0.46099588560703353, tolerance: 0.05997006419949362\n",
      "  tol, rng, random, positive)\n",
      "/workData2/env/ptenv/lib/python3.6/site-packages/sklearn/linear_model/_coordinate_descent.py:527: ConvergenceWarning: Objective did not converge. You might want to increase the number of iterations. Duality gap: 0.33338330492696144, tolerance: 0.05997006419949362\n",
      "  tol, rng, random, positive)\n",
      "/workData2/env/ptenv/lib/python3.6/site-packages/sklearn/linear_model/_coordinate_descent.py:527: ConvergenceWarning: Objective did not converge. You might want to increase the number of iterations. Duality gap: 0.5190634791585467, tolerance: 0.05997006419949362\n",
      "  tol, rng, random, positive)\n",
      "/workData2/env/ptenv/lib/python3.6/site-packages/sklearn/linear_model/_coordinate_descent.py:527: ConvergenceWarning: Objective did not converge. You might want to increase the number of iterations. Duality gap: 2.0393738887561916, tolerance: 0.05997006419949362\n",
      "  tol, rng, random, positive)\n",
      "/workData2/env/ptenv/lib/python3.6/site-packages/sklearn/linear_model/_coordinate_descent.py:531: ConvergenceWarning: Objective did not converge. You might want to increase the number of iterations. Duality gap: 0.6064256778016102, tolerance: 0.06633641620987592\n",
      "  positive)\n"
     ]
    },
    {
     "data": {
      "text/plain": [
       "0.0013257113655901094"
      ]
     },
     "execution_count": 12,
     "metadata": {},
     "output_type": "execute_result"
    }
   ],
   "source": [
    "alphas = np.logspace(-4, 1, 50)\n",
    "clf = LassoCV(alphas=alphas, cv=10)\n",
    "clf.fit(X_train_std,y_train[:,2])\n",
    "clf.alpha_"
   ]
  },
  {
   "cell_type": "code",
   "execution_count": 13,
   "metadata": {},
   "outputs": [
    {
     "name": "stdout",
     "output_type": "stream",
     "text": [
      "(7898, 930)\n",
      "(1975, 930)\n"
     ]
    }
   ],
   "source": [
    "mask = clf.coef_ != 0\n",
    "X_1 = X_train_std[:,mask]\n",
    "print(X_1.shape)\n",
    "X_2 = X_val_std[:,mask]\n",
    "print(X_2.shape)"
   ]
  },
  {
   "cell_type": "code",
   "execution_count": 14,
   "metadata": {},
   "outputs": [
    {
     "name": "stdout",
     "output_type": "stream",
     "text": [
      "[Fe/H] MAE: 0.0639444518927337\n",
      "[Fe/H] mu: 0.004396977944478042\n",
      "[Fe/H] sigma: 0.0961628970223735\n"
     ]
    }
   ],
   "source": [
    "from sklearn.neural_network import MLPRegressor\n",
    "clf0 = MLPRegressor(hidden_layer_sizes=(600,100), learning_rate_init=0.0003\n",
    "                    ,activation='logistic', max_iter=2000, early_stopping=True, random_state=1)\n",
    "clf0.fit(X_1, y_train[:,2])\n",
    "y_pred0 = clf0.predict(X_2)\n",
    "print('[Fe/H] MAE:', mean_absolute_error(y_pred0, y_val[:, 2]))\n",
    "diff_FeH = y_pred0 - y_val[:,2]\n",
    "mu = np.mean(diff_FeH)\n",
    "sigma = np.std(diff_FeH)\n",
    "print('[Fe/H] mu:',mu)\n",
    "print('[Fe/H] sigma:',sigma)"
   ]
  }
 ],
 "metadata": {
  "kernelspec": {
   "display_name": "pytorch1.7",
   "language": "python",
   "name": "pytorch1.7"
  },
  "language_info": {
   "codemirror_mode": {
    "name": "ipython",
    "version": 3
   },
   "file_extension": ".py",
   "mimetype": "text/x-python",
   "name": "python",
   "nbconvert_exporter": "python",
   "pygments_lexer": "ipython3",
   "version": "3.6.9"
  }
 },
 "nbformat": 4,
 "nbformat_minor": 2
}
